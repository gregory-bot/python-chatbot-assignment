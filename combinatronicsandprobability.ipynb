{
 "cells": [
  {
   "cell_type": "code",
   "execution_count": null,
   "id": "90d0dc8d",
   "metadata": {},
   "outputs": [
    {
     "data": {
      "text/plain": [
       "False"
      ]
     },
     "execution_count": 2,
     "metadata": {},
     "output_type": "execute_result"
    }
   ],
   "source": [
    "#set membership\n",
    "#use operator in\n",
    "set1={'mango','banana','apple','pineapple','avocado'}\n",
    "'orange' in set1"
   ]
  },
  {
   "cell_type": "code",
   "execution_count": null,
   "id": "f50d4789",
   "metadata": {},
   "outputs": [
    {
     "data": {
      "text/plain": [
       "True"
      ]
     },
     "execution_count": 4,
     "metadata": {},
     "output_type": "execute_result"
    }
   ],
   "source": [
    "#universal set\n",
    "\n",
    "set2={1,2,3,4,5,6,7,8,9,10}\n",
    "set3={3,4,5}\n",
    "set4={3,4,5}\n",
    "set5={6,7,8,9}\n",
    "\n",
    "#substes t said to be substet of s if every element of t is also in s\n",
    "#is subste used to check \n",
    "\n",
    "set3.issubset(set4)"
   ]
  },
  {
   "cell_type": "code",
   "execution_count": null,
   "id": "358c3baa",
   "metadata": {},
   "outputs": [
    {
     "data": {
      "text/plain": [
       "True"
      ]
     },
     "execution_count": 5,
     "metadata": {},
     "output_type": "execute_result"
    }
   ],
   "source": [
    "set5<=set2 "
   ]
  },
  {
   "cell_type": "code",
   "execution_count": null,
   "id": "6577ac01",
   "metadata": {},
   "outputs": [],
   "source": [
    "#proper subset\n",
    "# a set t is a proper subset of a set s if every element in set t is also in set s and the two sets do not contain the exact same elements "
   ]
  },
  {
   "cell_type": "code",
   "execution_count": null,
   "id": "b1839c3e",
   "metadata": {},
   "outputs": [
    {
     "data": {
      "text/plain": [
       "False"
      ]
     },
     "execution_count": 6,
     "metadata": {},
     "output_type": "execute_result"
    }
   ],
   "source": [
    "set3<set4\n",
    "set3<set2"
   ]
  },
  {
   "cell_type": "code",
   "execution_count": 7,
   "id": "3642f127",
   "metadata": {},
   "outputs": [
    {
     "data": {
      "text/plain": [
       "True"
      ]
     },
     "execution_count": 7,
     "metadata": {},
     "output_type": "execute_result"
    }
   ],
   "source": [
    "set3<set2"
   ]
  },
  {
   "cell_type": "code",
   "execution_count": null,
   "id": "419f7c1d",
   "metadata": {},
   "outputs": [],
   "source": [
    "#supersets\n",
    "#inverse of a subset"
   ]
  },
  {
   "cell_type": "code",
   "execution_count": 10,
   "id": "15b9bf97",
   "metadata": {},
   "outputs": [
    {
     "data": {
      "text/plain": [
       "True"
      ]
     },
     "execution_count": 10,
     "metadata": {},
     "output_type": "execute_result"
    }
   ],
   "source": [
    "#is superset method \n",
    "set2.issuperset (set3)"
   ]
  },
  {
   "cell_type": "code",
   "execution_count": 11,
   "id": "807e84ae",
   "metadata": {},
   "outputs": [
    {
     "data": {
      "text/plain": [
       "True"
      ]
     },
     "execution_count": 11,
     "metadata": {},
     "output_type": "execute_result"
    }
   ],
   "source": [
    "set3 >=set4"
   ]
  },
  {
   "cell_type": "code",
   "execution_count": null,
   "id": "ca52020b",
   "metadata": {},
   "outputs": [
    {
     "data": {
      "text/plain": [
       "True"
      ]
     },
     "execution_count": 12,
     "metadata": {},
     "output_type": "execute_result"
    }
   ],
   "source": [
    "#check if proper superset >\n",
    "set2 > set5"
   ]
  },
  {
   "cell_type": "code",
   "execution_count": null,
   "id": "2b1ef599",
   "metadata": {},
   "outputs": [],
   "source": [
    "#set operators "
   ]
  }
 ],
 "metadata": {
  "kernelspec": {
   "display_name": "myEnv",
   "language": "python",
   "name": "python3"
  },
  "language_info": {
   "codemirror_mode": {
    "name": "ipython",
    "version": 3
   },
   "file_extension": ".py",
   "mimetype": "text/x-python",
   "name": "python",
   "nbconvert_exporter": "python",
   "pygments_lexer": "ipython3",
   "version": "3.13.5"
  }
 },
 "nbformat": 4,
 "nbformat_minor": 5
}
