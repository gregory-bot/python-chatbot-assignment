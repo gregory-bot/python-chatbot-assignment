{
 "cells": [
  {
   "cell_type": "code",
   "execution_count": null,
   "id": "90d0dc8d",
   "metadata": {},
   "outputs": [
    {
     "data": {
      "text/plain": [
       "False"
      ]
     },
     "execution_count": 2,
     "metadata": {},
     "output_type": "execute_result"
    }
   ],
   "source": [
    "#set membership\n",
    "#use operator in\n",
    "set1={'mango','banana','apple','pineapple','avocado'}\n",
    "'orange' in set1"
   ]
  },
  {
   "cell_type": "code",
   "execution_count": null,
   "id": "f50d4789",
   "metadata": {},
   "outputs": [
    {
     "data": {
      "text/plain": [
       "True"
      ]
     },
     "execution_count": 4,
     "metadata": {},
     "output_type": "execute_result"
    }
   ],
   "source": [
    "#universal set\n",
    "\n",
    "set2={1,2,3,4,5,6,7,8,9,10}\n",
    "set3={3,4,5}\n",
    "set4={3,4,5}\n",
    "set5={6,7,8,9}\n",
    "\n",
    "#substes t said to be substet of s if every element of t is also in s\n",
    "#is subste used to check \n",
    "\n",
    "set3.issubset(set4)"
   ]
  },
  {
   "cell_type": "code",
   "execution_count": null,
   "id": "358c3baa",
   "metadata": {},
   "outputs": [
    {
     "data": {
      "text/plain": [
       "True"
      ]
     },
     "execution_count": 5,
     "metadata": {},
     "output_type": "execute_result"
    }
   ],
   "source": [
    "set5<=set2 "
   ]
  },
  {
   "cell_type": "code",
   "execution_count": null,
   "id": "6577ac01",
   "metadata": {},
   "outputs": [],
   "source": [
    "#proper subset\n",
    "# a set t is a proper subset of a set s if every element in set t is also in set s and the two sets do not contain the exact same elements "
   ]
  },
  {
   "cell_type": "code",
   "execution_count": null,
   "id": "b1839c3e",
   "metadata": {},
   "outputs": [
    {
     "data": {
      "text/plain": [
       "False"
      ]
     },
     "execution_count": 6,
     "metadata": {},
     "output_type": "execute_result"
    }
   ],
   "source": [
    "set3<set4\n",
    "set3<set2"
   ]
  },
  {
   "cell_type": "code",
   "execution_count": 7,
   "id": "3642f127",
   "metadata": {},
   "outputs": [
    {
     "data": {
      "text/plain": [
       "True"
      ]
     },
     "execution_count": 7,
     "metadata": {},
     "output_type": "execute_result"
    }
   ],
   "source": [
    "set3<set2"
   ]
  },
  {
   "cell_type": "code",
   "execution_count": null,
   "id": "419f7c1d",
   "metadata": {},
   "outputs": [],
   "source": [
    "#supersets\n",
    "#inverse of a subset"
   ]
  },
  {
   "cell_type": "code",
   "execution_count": 10,
   "id": "15b9bf97",
   "metadata": {},
   "outputs": [
    {
     "data": {
      "text/plain": [
       "True"
      ]
     },
     "execution_count": 10,
     "metadata": {},
     "output_type": "execute_result"
    }
   ],
   "source": [
    "#is superset method \n",
    "set2.issuperset (set3)"
   ]
  },
  {
   "cell_type": "code",
   "execution_count": 11,
   "id": "807e84ae",
   "metadata": {},
   "outputs": [
    {
     "data": {
      "text/plain": [
       "True"
      ]
     },
     "execution_count": 11,
     "metadata": {},
     "output_type": "execute_result"
    }
   ],
   "source": [
    "set3 >=set4"
   ]
  },
  {
   "cell_type": "code",
   "execution_count": null,
   "id": "ca52020b",
   "metadata": {},
   "outputs": [
    {
     "data": {
      "text/plain": [
       "True"
      ]
     },
     "execution_count": 12,
     "metadata": {},
     "output_type": "execute_result"
    }
   ],
   "source": [
    "#check if proper superset >\n",
    "set2 > set5"
   ]
  },
  {
   "cell_type": "code",
   "execution_count": 13,
   "id": "2b1ef599",
   "metadata": {},
   "outputs": [
    {
     "data": {
      "text/plain": [
       "{1, 2, 3, 4, 5, 6, 7, 8, 9}"
      ]
     },
     "execution_count": 13,
     "metadata": {},
     "output_type": "execute_result"
    }
   ],
   "source": [
    "#set operators \n",
    "set6={1,2,3,4,4,5,6,6,6,6,7,8,9}\n",
    "#use intersection method \n",
    "set2.intersection (set6)"
   ]
  },
  {
   "cell_type": "code",
   "execution_count": 14,
   "id": "e41259ae",
   "metadata": {},
   "outputs": [
    {
     "data": {
      "text/plain": [
       "{1, 2, 3, 4, 5, 6, 7, 8, 9}"
      ]
     },
     "execution_count": 14,
     "metadata": {},
     "output_type": "execute_result"
    }
   ],
   "source": [
    "set2&set6"
   ]
  },
  {
   "cell_type": "code",
   "execution_count": null,
   "id": "081732c6",
   "metadata": {},
   "outputs": [
    {
     "data": {
      "text/plain": [
       "{1, 2, 3, 4, 5, 6, 7, 8, 9, 10}"
      ]
     },
     "execution_count": 15,
     "metadata": {},
     "output_type": "execute_result"
    }
   ],
   "source": [
    "#union \n",
    "#use or for the union\n",
    "set2.union (set6)"
   ]
  },
  {
   "cell_type": "code",
   "execution_count": 16,
   "id": "6a6df751",
   "metadata": {},
   "outputs": [
    {
     "data": {
      "text/plain": [
       "{1, 2, 3, 4, 5, 6, 7, 8, 9, 10}"
      ]
     },
     "execution_count": 16,
     "metadata": {},
     "output_type": "execute_result"
    }
   ],
   "source": [
    "set2|set6"
   ]
  },
  {
   "cell_type": "code",
   "execution_count": null,
   "id": "d1afd4b2",
   "metadata": {},
   "outputs": [
    {
     "data": {
      "text/plain": [
       "{10}"
      ]
     },
     "execution_count": 18,
     "metadata": {},
     "output_type": "execute_result"
    }
   ],
   "source": [
    "#relative complement/ difference \n",
    "#elements that arent in that set\n",
    "#relative component of s in t \n",
    "#use - operator \n",
    "set2-set6\n",
    "#the complement of a set means elements that are not in that set\n",
    " "
   ]
  },
  {
   "cell_type": "code",
   "execution_count": 19,
   "id": "86381e3e",
   "metadata": {},
   "outputs": [
    {
     "data": {
      "text/plain": [
       "{10}"
      ]
     },
     "execution_count": 19,
     "metadata": {},
     "output_type": "execute_result"
    }
   ],
   "source": [
    "#use difference method\n",
    "set2.difference (set6)"
   ]
  },
  {
   "cell_type": "code",
   "execution_count": null,
   "id": "23ee444d",
   "metadata": {},
   "outputs": [],
   "source": [
    "#absolute complement"
   ]
  },
  {
   "cell_type": "code",
   "execution_count": 20,
   "id": "9e9d9416",
   "metadata": {},
   "outputs": [
    {
     "data": {
      "text/plain": [
       "10"
      ]
     },
     "execution_count": 20,
     "metadata": {},
     "output_type": "execute_result"
    }
   ],
   "source": [
    "#additional set attributes \n",
    "#cardinality -no of elements in a set\n",
    "len(set2)"
   ]
  },
  {
   "cell_type": "code",
   "execution_count": 24,
   "id": "280192ea",
   "metadata": {},
   "outputs": [
    {
     "data": {
      "text/plain": [
       "9"
      ]
     },
     "execution_count": 24,
     "metadata": {},
     "output_type": "execute_result"
    }
   ],
   "source": [
    "len(set6)"
   ]
  },
  {
   "cell_type": "code",
   "execution_count": 25,
   "id": "551555bf",
   "metadata": {},
   "outputs": [
    {
     "name": "stdout",
     "output_type": "stream",
     "text": [
      "19\n"
     ]
    }
   ],
   "source": [
    "#inclusion /exclusion principle\n",
    "print (len (set2)+len (set6)) "
   ]
  },
  {
   "cell_type": "code",
   "execution_count": null,
   "id": "f28a88e8",
   "metadata": {},
   "outputs": [],
   "source": [
    "#probability\n",
    "#event occuring\n",
    "#experiment - \n",
    "#event -outcome of a particular experiment\n",
    "#samplespace -represents the universe of all the possible outcomes\n",
    "#eventspace-is a subset of a samplespace\n",
    " "
   ]
  },
  {
   "cell_type": "code",
   "execution_count": null,
   "id": "855bea21",
   "metadata": {},
   "outputs": [],
   "source": [
    "set7={1,2,3,4,5,6}\n",
    "  "
   ]
  },
  {
   "cell_type": "code",
   "execution_count": 1,
   "id": "0c19db30",
   "metadata": {},
   "outputs": [
    {
     "data": {
      "text/plain": [
       "336.0"
      ]
     },
     "execution_count": 1,
     "metadata": {},
     "output_type": "execute_result"
    }
   ],
   "source": [
    "import math \n",
    "n=8\n",
    "k=3\n",
    "p=(8*7*6*5*4*3*2*1)/(5*4*3*2*1)\n",
    "p"
   ]
  },
  {
   "cell_type": "code",
   "execution_count": 2,
   "id": "c65bec5b",
   "metadata": {},
   "outputs": [],
   "source": [
    "def permutation(n,k):\n",
    "    return math.factorial(n)/ math.factorial(n-k)"
   ]
  },
  {
   "cell_type": "code",
   "execution_count": 3,
   "id": "8f04a76e",
   "metadata": {},
   "outputs": [
    {
     "data": {
      "text/plain": [
       "336.0"
      ]
     },
     "execution_count": 3,
     "metadata": {},
     "output_type": "execute_result"
    }
   ],
   "source": [
    "permutation (8,3)"
   ]
  },
  {
   "cell_type": "code",
   "execution_count": 4,
   "id": "9afaffc0",
   "metadata": {},
   "outputs": [],
   "source": [
    "def combination(n,k):\n",
    "    return math.factorial(n)/ (math.factorial(n-k)*math.factorial(k))"
   ]
  },
  {
   "cell_type": "code",
   "execution_count": 5,
   "id": "25c143d3",
   "metadata": {},
   "outputs": [
    {
     "data": {
      "text/plain": [
       "56.0"
      ]
     },
     "execution_count": 5,
     "metadata": {},
     "output_type": "execute_result"
    }
   ],
   "source": [
    "combination(8,3)"
   ]
  },
  {
   "cell_type": "code",
   "execution_count": 6,
   "id": "bcebf556",
   "metadata": {},
   "outputs": [
    {
     "data": {
      "text/plain": [
       "252.0"
      ]
     },
     "execution_count": 6,
     "metadata": {},
     "output_type": "execute_result"
    }
   ],
   "source": [
    "combination(10,5)"
   ]
  },
  {
   "cell_type": "code",
   "execution_count": null,
   "id": "8ebf0a97",
   "metadata": {},
   "outputs": [],
   "source": []
  },
  {
   "cell_type": "code",
   "execution_count": null,
   "id": "bdf77eb0",
   "metadata": {},
   "outputs": [],
   "source": []
  }
 ],
 "metadata": {
  "kernelspec": {
   "display_name": "myEnv",
   "language": "python",
   "name": "python3"
  },
  "language_info": {
   "codemirror_mode": {
    "name": "ipython",
    "version": 3
   },
   "file_extension": ".py",
   "mimetype": "text/x-python",
   "name": "python",
   "nbconvert_exporter": "python",
   "pygments_lexer": "ipython3",
   "version": "3.13.5"
  }
 },
 "nbformat": 4,
 "nbformat_minor": 5
}
