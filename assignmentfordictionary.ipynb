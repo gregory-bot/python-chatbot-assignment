{
 "cells": [
  {
   "cell_type": "code",
   "execution_count": 3,
   "id": "466e5464",
   "metadata": {},
   "outputs": [],
   "source": [
    "people = [\n",
    "    \"Kipngeno\", \"Mbaabu\", \"Chesang\", \"Dee\", \"Emanuel\",\n",
    "    \"Faith\", \"Gregory\", \"Albert\", \"Imanuel\", \"Jude\",\n",
    "    \"Symphonelle\", \"Levy\", \"Michael\", \"Bett\", \"Omare\"\n",
    "]\n",
    "heights = [\n",
    "    165, 178, 172, 160, 185,\n",
    "    170, 182, 158, 174, 169,\n",
    "    180, 162, 176, 168, 181\n",
    "]"
   ]
  },
  {
   "cell_type": "code",
   "execution_count": 4,
   "id": "cabad1ba",
   "metadata": {},
   "outputs": [
    {
     "data": {
      "text/plain": [
       "{'Kipngeno': 165,\n",
       " 'Mbaabu': 178,\n",
       " 'Chesang': 172,\n",
       " 'Dee': 160,\n",
       " 'Emanuel': 185,\n",
       " 'Faith': 170,\n",
       " 'Gregory': 182,\n",
       " 'Albert': 158,\n",
       " 'Imanuel': 174,\n",
       " 'Jude': 169,\n",
       " 'Symphonelle': 180,\n",
       " 'Levy': 162,\n",
       " 'Michael': 176,\n",
       " 'Bett': 168,\n",
       " 'Omare': 181}"
      ]
     },
     "execution_count": 4,
     "metadata": {},
     "output_type": "execute_result"
    }
   ],
   "source": [
    "people_heights = {people[i]: heights[i] for i in range(len(people))}\n",
    "people_heights"
   ]
  },
  {
   "cell_type": "code",
   "execution_count": null,
   "id": "b385825b",
   "metadata": {},
   "outputs": [],
   "source": [
    "#import python libraries\n",
    "import itertools\n",
    "import numpy as np\n",
    "from collections import Counter\n",
    "import pandas as pd"
   ]
  },
  {
   "cell_type": "code",
   "execution_count": null,
   "id": "79bf03c1",
   "metadata": {},
   "outputs": [],
   "source": [
    "#calculating all possible sample means\n",
    "def group_mean(group_size,data):\n",
    "    n = group_size\n",
    "    mu = sum(data.values())/len(data)\n",
    "    combinations = list(itertools.combinations(data.keys(), n))\n",
    "    x_bar_grouplist = []\n",
    "    \n",
    "    for comb in combinations:\n",
    "        people_heights = [data[p] for p in comb]\n",
    "        group_mean = sum(people_heights)/n\n",
    "        x_bar_grouplist.append(group_mean)\n",
    "    return combinations, x_bar_grouplist"
   ]
  },
  {
   "cell_type": "code",
   "execution_count": null,
   "id": "f5a1a20d",
   "metadata": {},
   "outputs": [],
   "source": [
    "#show the result\n",
    "def result_mu(x):\n",
    "    w = sum(x.values())/len(x)\n",
    "    return w"
   ]
  }
 ],
 "metadata": {
  "kernelspec": {
   "display_name": "myEnv",
   "language": "python",
   "name": "python3"
  },
  "language_info": {
   "codemirror_mode": {
    "name": "ipython",
    "version": 3
   },
   "file_extension": ".py",
   "mimetype": "text/x-python",
   "name": "python",
   "nbconvert_exporter": "python",
   "pygments_lexer": "ipython3",
   "version": "3.13.5"
  }
 },
 "nbformat": 4,
 "nbformat_minor": 5
}
