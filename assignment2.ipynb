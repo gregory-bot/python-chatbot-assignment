{
 "cells": [
  {
   "cell_type": "code",
   "execution_count": 1,
   "id": "929e63df",
   "metadata": {},
   "outputs": [],
   "source": [
    "# Parent Class\n",
    "class Employee:\n",
    "    def __init__(self, name, salary):\n",
    "        self.name = name\n",
    "        self.salary = salary\n"
   ]
  },
  {
   "cell_type": "code",
   "execution_count": 2,
   "id": "bb0279c9",
   "metadata": {},
   "outputs": [],
   "source": [
    "# Subclass\n",
    "class Manager(Employee):\n",
    "    def __init__(self, name, salary, department):\n",
    "        super().__init__(name, salary)  # Call Employee's constructor\n",
    "        self.department = department\n",
    "\n",
    "    def display_details(self):\n",
    "        print(f\"Name: {self.name}\")\n",
    "        print(f\"Salary: {self.salary}\")\n",
    "        print(f\"Department: {self.department}\")"
   ]
  },
  {
   "cell_type": "code",
   "execution_count": 3,
   "id": "d2681656",
   "metadata": {},
   "outputs": [
    {
     "name": "stdout",
     "output_type": "stream",
     "text": [
      "Name: Alice\n",
      "Salary: 75000\n",
      "Department: Finance\n"
     ]
    }
   ],
   "source": [
    "\n",
    "# Example usage:\n",
    "m1 = Manager(\"Alice\", 75000, \"Finance\")\n",
    "m1.display_details()"
   ]
  }
 ],
 "metadata": {
  "kernelspec": {
   "display_name": "myEnv",
   "language": "python",
   "name": "python3"
  },
  "language_info": {
   "codemirror_mode": {
    "name": "ipython",
    "version": 3
   },
   "file_extension": ".py",
   "mimetype": "text/x-python",
   "name": "python",
   "nbconvert_exporter": "python",
   "pygments_lexer": "ipython3",
   "version": "3.13.5"
  }
 },
 "nbformat": 4,
 "nbformat_minor": 5
}
