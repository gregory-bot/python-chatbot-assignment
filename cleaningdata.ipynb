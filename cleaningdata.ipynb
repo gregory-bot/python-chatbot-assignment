{
 "cells": [
  {
   "cell_type": "code",
   "execution_count": null,
   "id": "7b4521e2",
   "metadata": {},
   "outputs": [],
   "source": [
    "import pandas as pd\n",
    "\n",
    "# Load sheets\n",
    "file_path = \"EV Data Explorer 2025.xlsx\"\n",
    "df_main = pd.read_excel(file_path, sheet_name=\"GEVO_EV_2025\")\n",
    "df_regions = pd.read_excel(file_path, sheet_name=\"Regions and countries\")\n",
    "\n",
    "# Clean column names\n",
    "df_main.columns = df_main.columns.str.strip().str.lower().str.replace(\" \", \"_\")\n",
    "df_regions.columns = df_regions.columns.str.strip().str.lower().str.replace(\" \", \"_\")\n",
    "\n",
    "# Keep only historical data\n",
    "df_clean = df_main[df_main['category'].str.contains(\"Historical\", case=False, na=False)].copy()\n",
    "\n",
    "# Merge with regions for grouping\n",
    "df_clean = df_clean.merge(df_regions, on=\"region_country\", how=\"left\")\n",
    "\n",
    "# Pivot so each parameter (sales, stock, charging_points etc.) becomes a column\n",
    "df_pivot = df_clean.pivot_table(\n",
    "    index=[\"region_country\", \"agg_group\", \"mode\", \"powertrain\", \"year\"],\n",
    "    columns=\"parameter\",\n",
    "    values=\"value\",\n",
    "    aggfunc=\"first\"\n",
    ").reset_index()\n",
    "\n",
    "# Flatten columns\n",
    "df_pivot.columns = [str(col).lower().replace(\" \", \"_\") for col in df_pivot.columns]\n",
    "\n",
    "# Save cleaned dataset\n",
    "df_pivot.to_csv(\"cleaned_ev_data.csv\", index=False)\n",
    "print(\"✅ Cleaned dataset saved as cleaned_ev_data.csv\")\n",
    "print(df_pivot.head())\n"
   ]
  }
 ],
 "metadata": {
  "kernelspec": {
   "display_name": "myEnv",
   "language": "python",
   "name": "python3"
  },
  "language_info": {
   "name": "python",
   "version": "3.13.5"
  }
 },
 "nbformat": 4,
 "nbformat_minor": 5
}
