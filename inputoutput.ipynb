{
 "cells": [
  {
   "cell_type": "code",
   "execution_count": 1,
   "id": "c8d7d14c",
   "metadata": {},
   "outputs": [
    {
     "name": "stdout",
     "output_type": "stream",
     "text": [
      "I am 21 years old\n"
     ]
    }
   ],
   "source": [
    "year_of_birth= int(input(\"Enter your year of birth: \"))\n",
    "age= 2025 - year_of_birth\n",
    "print(f\"I am {age} years old\")"
   ]
  },
  {
   "cell_type": "code",
   "execution_count": 22,
   "id": "7e213624",
   "metadata": {},
   "outputs": [],
   "source": [
    "x=10\n",
    "y=20\n",
    "z=3"
   ]
  },
  {
   "cell_type": "code",
   "execution_count": 15,
   "id": "21cb9993",
   "metadata": {},
   "outputs": [
    {
     "data": {
      "text/plain": [
       "10"
      ]
     },
     "execution_count": 15,
     "metadata": {},
     "output_type": "execute_result"
    }
   ],
   "source": [
    "#subtract\n",
    "y-x"
   ]
  },
  {
   "cell_type": "code",
   "execution_count": 13,
   "id": "db1c835d",
   "metadata": {},
   "outputs": [
    {
     "name": "stdout",
     "output_type": "stream",
     "text": [
      "hi nigga\n"
     ]
    }
   ],
   "source": [
    "greetings=input(\"Say Hi to get a response: \")\n",
    "print(greetings)\n"
   ]
  },
  {
   "cell_type": "code",
   "execution_count": 16,
   "id": "5430928a",
   "metadata": {},
   "outputs": [
    {
     "data": {
      "text/plain": [
       "200"
      ]
     },
     "execution_count": 16,
     "metadata": {},
     "output_type": "execute_result"
    }
   ],
   "source": [
    "#multiply\n",
    "x*y"
   ]
  },
  {
   "cell_type": "code",
   "execution_count": 17,
   "id": "de12a23d",
   "metadata": {},
   "outputs": [
    {
     "data": {
      "text/plain": [
       "2.0"
      ]
     },
     "execution_count": 17,
     "metadata": {},
     "output_type": "execute_result"
    }
   ],
   "source": [
    "#divide\n",
    "y/x"
   ]
  },
  {
   "cell_type": "code",
   "execution_count": 18,
   "id": "3207ad5a",
   "metadata": {},
   "outputs": [
    {
     "data": {
      "text/plain": [
       "0"
      ]
     },
     "execution_count": 18,
     "metadata": {},
     "output_type": "execute_result"
    }
   ],
   "source": [
    "#modulus\n",
    "y%x"
   ]
  },
  {
   "cell_type": "code",
   "execution_count": 20,
   "id": "c29b7dfe",
   "metadata": {},
   "outputs": [
    {
     "data": {
      "text/plain": [
       "1000"
      ]
     },
     "execution_count": 20,
     "metadata": {},
     "output_type": "execute_result"
    }
   ],
   "source": [
    "#10 raised to the power 3\n",
    "x**3"
   ]
  },
  {
   "cell_type": "code",
   "execution_count": 21,
   "id": "98df6e78",
   "metadata": {},
   "outputs": [
    {
     "data": {
      "text/plain": [
       "400"
      ]
     },
     "execution_count": 21,
     "metadata": {},
     "output_type": "execute_result"
    }
   ],
   "source": [
    "#20 raised to power 2\n",
    "y**2"
   ]
  },
  {
   "cell_type": "code",
   "execution_count": 23,
   "id": "f5382f44",
   "metadata": {},
   "outputs": [
    {
     "data": {
      "text/plain": [
       "1"
      ]
     },
     "execution_count": 23,
     "metadata": {},
     "output_type": "execute_result"
    }
   ],
   "source": [
    "#modulus when you divide 10 to 3\n",
    "x%z"
   ]
  },
  {
   "cell_type": "code",
   "execution_count": 24,
   "id": "ac67afbd",
   "metadata": {},
   "outputs": [
    {
     "data": {
      "text/plain": [
       "0"
      ]
     },
     "execution_count": 24,
     "metadata": {},
     "output_type": "execute_result"
    }
   ],
   "source": [
    "#find the modules when you divide 20 against 10\n",
    "y%x"
   ]
  },
  {
   "cell_type": "markdown",
   "id": "09ec87ab",
   "metadata": {},
   "source": [
    "#### Variables\n",
    "define x to be 10 and y to be 20"
   ]
  },
  {
   "cell_type": "markdown",
   "id": "15fad7ff",
   "metadata": {},
   "source": [
    "####logical opeartors\n",
    "and . or, not \n"
   ]
  },
  {
   "cell_type": "code",
   "execution_count": null,
   "id": "1e573fab",
   "metadata": {},
   "outputs": [],
   "source": [
    "##### comparison operators\n",
    "#greater than\n",
    "#less than\n",
    "#greater than or equal to\n",
    "#less than or equal to"
   ]
  },
  {
   "cell_type": "markdown",
   "id": "a826e16e",
   "metadata": {},
   "source": [
    "#### logical operators\n",
    "they are\n",
    "-and\n",
    "-or\n",
    "-not"
   ]
  },
  {
   "cell_type": "markdown",
   "id": "cfa1589f",
   "metadata": {},
   "source": [
    "#### comparison operators\n",
    "are\n",
    "- equals to =\n",
    "- not equals to !=\n",
    "- greater than >\n",
    "- less than <\n",
    "- greater than or equal to >=\n",
    "- less than or equal to <="
   ]
  },
  {
   "cell_type": "code",
   "execution_count": 27,
   "id": "e57ed657",
   "metadata": {},
   "outputs": [
    {
     "name": "stdout",
     "output_type": "stream",
     "text": [
      "30\n",
      "100000000000000000000\n",
      "10\n"
     ]
    }
   ],
   "source": [
    "#print x + y\n",
    "#print x raised to power y\n",
    "#print x modulus y    \n",
    "print(x + y)\n",
    "print(x**y)     \n",
    "print(x % y)"
   ]
  },
  {
   "cell_type": "code",
   "execution_count": 32,
   "id": "a8743236",
   "metadata": {},
   "outputs": [
    {
     "name": "stdout",
     "output_type": "stream",
     "text": [
      "False\n"
     ]
    }
   ],
   "source": [
    "#compare and see wether y is greater than x and z is less than 5\n",
    "x>y and z<5\n",
    "print(x>y and z<5)"
   ]
  },
  {
   "cell_type": "code",
   "execution_count": 29,
   "id": "46aba6ba",
   "metadata": {},
   "outputs": [
    {
     "data": {
      "text/plain": [
       "False"
      ]
     },
     "execution_count": 29,
     "metadata": {},
     "output_type": "execute_result"
    }
   ],
   "source": [
    "x>y"
   ]
  },
  {
   "cell_type": "markdown",
   "id": "0c469bf7",
   "metadata": {},
   "source": [
    "#### Control flow statements\n",
    "1. conditional statements\n",
    "if statement\n",
    "else statement\n",
    "if-else statement---two conditions\n",
    "if-elif-else statement --multiple condtions\n"
   ]
  },
  {
   "cell_type": "code",
   "execution_count": null,
   "id": "5ef71ccf",
   "metadata": {},
   "outputs": [
    {
     "name": "stdout",
     "output_type": "stream",
     "text": [
      "wewe si adult, Wewe ni Anaya\n"
     ]
    }
   ],
   "source": [
    "miaka = int(input(\"weka miaka yako: \"))\n",
    "if miaka >= 18:\n",
    "\n",
    "    print(\"you are an adult\")\n",
    "else:\n",
    "    print(\"wewe si adult, Wewe ni mtoto\")"
   ]
  },
  {
   "cell_type": "code",
   "execution_count": 2,
   "id": "1ef34a22",
   "metadata": {},
   "outputs": [
    {
     "name": "stdout",
     "output_type": "stream",
     "text": [
      "mtu mzima\n"
     ]
    }
   ],
   "source": [
    "miaka = int(input(\"weka miaka yako: \"))\n",
    "if miaka >0 and miaka <13:\n",
    "    print(\"mtoto\")\n",
    "elif miaka >=13 and miaka <20:\n",
    "    print(\"kijana\")\n",
    "elif miaka >=20 and miaka <35:\n",
    "    print(\"mtu mzima\")\n",
    "else:\n",
    "    print(\"wewe ni mzee\")"
   ]
  },
  {
   "cell_type": "markdown",
   "id": "b085d807",
   "metadata": {},
   "source": [
    "#### Loops\n",
    "For loops-iterates through every element in a given data structure\n",
    "While loop -condition met is true it executes the code"
   ]
  },
  {
   "cell_type": "code",
   "execution_count": 3,
   "id": "2b9610b0",
   "metadata": {},
   "outputs": [
    {
     "name": "stdout",
     "output_type": "stream",
     "text": [
      "mango\n",
      "banana\n",
      "orange\n",
      "pawpaw\n",
      "apple\n"
     ]
    }
   ],
   "source": [
    "#list of fruits\n",
    "fruits = [\"mango\",\"banana\",\"orange\",\"pawpaw\",\"apple\"]\n",
    "for fruit in fruits:\n",
    "    print(fruit)"
   ]
  },
  {
   "cell_type": "code",
   "execution_count": 14,
   "id": "47487b35",
   "metadata": {},
   "outputs": [
    {
     "name": "stdout",
     "output_type": "stream",
     "text": [
      "1 2 3 4 5 6 7 8 9 10 "
     ]
    }
   ],
   "source": [
    "#list of numbers from 1 to 10\n",
    "numbers = [1,2,3,4,5,6,7,8,9,10]\n",
    "for number in numbers:\n",
    "    print(number,end=\" \")  "
   ]
  },
  {
   "cell_type": "markdown",
   "id": "881ada71",
   "metadata": {},
   "source": [
    "#### while loop \n",
    "-iterates element until condition has been met"
   ]
  },
  {
   "cell_type": "code",
   "execution_count": 9,
   "id": "59730e2b",
   "metadata": {},
   "outputs": [
    {
     "name": "stdout",
     "output_type": "stream",
     "text": [
      "0\n",
      "1\n",
      "2\n",
      "3\n",
      "4\n"
     ]
    }
   ],
   "source": [
    "#count from 0 and stop at 5\n",
    "count = 0\n",
    "while count < 5:\n",
    "    print(count)\n",
    "    count += 1"
   ]
  },
  {
   "cell_type": "code",
   "execution_count": null,
   "id": "249ab711",
   "metadata": {},
   "outputs": [],
   "source": [
    "#break, continue and pass statements\n",
    "#break - used to terminate a loop\n",
    "#continue - skips the current iteration and moves to the next iteration \n",
    "#pass - used when a statement is required syntactically but you do not want any command or code to execute"
   ]
  },
  {
   "cell_type": "code",
   "execution_count": 12,
   "id": "e1f2bc7b",
   "metadata": {},
   "outputs": [
    {
     "name": "stdout",
     "output_type": "stream",
     "text": [
      "1\n",
      "2\n",
      "3\n",
      "4\n"
     ]
    }
   ],
   "source": [
    "for num in numbers:\n",
    "    if num >= 5:\n",
    "        break\n",
    "    print(num)"
   ]
  },
  {
   "cell_type": "code",
   "execution_count": 17,
   "id": "74473224",
   "metadata": {},
   "outputs": [
    {
     "name": "stdout",
     "output_type": "stream",
     "text": [
      "1\n",
      "2\n",
      "3\n",
      "4\n",
      "6\n",
      "7\n",
      "8\n",
      "9\n",
      "10\n"
     ]
    }
   ],
   "source": [
    "for num in numbers:\n",
    "    if num == 5:\n",
    "        continue\n",
    "    print(num)"
   ]
  },
  {
   "cell_type": "code",
   "execution_count": 18,
   "id": "6cb23adb",
   "metadata": {},
   "outputs": [
    {
     "name": "stdout",
     "output_type": "stream",
     "text": [
      "1\n",
      "2\n",
      "3\n",
      "4\n",
      "5\n",
      "6\n",
      "7\n",
      "8\n",
      "9\n",
      "10\n"
     ]
    }
   ],
   "source": [
    "for num in numbers:\n",
    "    if num == 5:\n",
    "        pass\n",
    "    print(num)"
   ]
  },
  {
   "cell_type": "markdown",
   "id": "11f84c1f",
   "metadata": {},
   "source": [
    "#### list comprehensions\n",
    "-"
   ]
  },
  {
   "cell_type": "code",
   "execution_count": 19,
   "id": "901e175e",
   "metadata": {},
   "outputs": [
    {
     "name": "stdout",
     "output_type": "stream",
     "text": [
      "[0, 2, 4, 6, 8, 10]\n"
     ]
    }
   ],
   "source": [
    "#### list comprehensions\n",
    "# an easier way to create lists from loops\n",
    "even_numbers = [i for i in range(0,11) if i%2==0]\n",
    "print(even_numbers)"
   ]
  },
  {
   "cell_type": "code",
   "execution_count": 21,
   "id": "073e5b9b",
   "metadata": {},
   "outputs": [
    {
     "name": "stdout",
     "output_type": "stream",
     "text": [
      "[0, 1, 4, 9, 16, 25, 36, 49, 64, 81, 100, 121, 144, 169, 196, 225, 256, 289, 324, 361, 400, 441, 484, 529, 576, 625]\n"
     ]
    }
   ],
   "source": [
    "square_numbers = [i**2 for i in range(0,26)]\n",
    "print(square_numbers)"
   ]
  },
  {
   "cell_type": "code",
   "execution_count": 22,
   "id": "27174cb2",
   "metadata": {},
   "outputs": [
    {
     "name": "stdout",
     "output_type": "stream",
     "text": [
      "[0, 1, 8, 27, 64, 125, 216, 343, 512, 729, 1000, 1331, 1728, 2197, 2744, 3375, 4096, 4913, 5832, 6859, 8000, 9261, 10648, 12167, 13824, 15625]\n"
     ]
    }
   ],
   "source": [
    "cubed_numbers = [i**3 for i in range(0,26)]\n",
    "print(cubed_numbers)"
   ]
  },
  {
   "cell_type": "code",
   "execution_count": 23,
   "id": "085da2e9",
   "metadata": {},
   "outputs": [
    {
     "name": "stdout",
     "output_type": "stream",
     "text": [
      "[1, 3, 5, 7, 9, 11, 13, 15, 17, 19, 21, 23, 25]\n"
     ]
    }
   ],
   "source": [
    "odd_numbers = [i for i in range(0,26) if i%2!=0]\n",
    "print(odd_numbers)"
   ]
  },
  {
   "cell_type": "code",
   "execution_count": 26,
   "id": "f3e61a2d",
   "metadata": {},
   "outputs": [
    {
     "name": "stdout",
     "output_type": "stream",
     "text": [
      "[0, 1, 2, 3, 4, 5, 6, 7, 8, 9, 10, 11, 12, 13, 14, 15, 16, 17, 18, 19, 20, 21, 22, 23, 24, 25]\n"
     ]
    }
   ],
   "source": [
    "prime_numbers = [i for i in range(0,26) if i%1==0 or i%i==0]\n",
    "print(prime_numbers)\n",
    "                 "
   ]
  },
  {
   "cell_type": "code",
   "execution_count": null,
   "id": "26cc5bd3",
   "metadata": {},
   "outputs": [],
   "source": [
    "#python functions\n",
    "# its a block of code which only runs when it is called\n",
    "# similarity in sql is a stored procedure \n",
    "# blcok of reusable code \n",
    "#types of functions\n",
    "#built in functions - functions that are already defined in python\n",
    "#lamda functions - small anonymous functions\n",
    "#user defined functions - functions that are defined by the user to perform specific tasks\n",
    "#decorators - special functions that modify the behavior of other functions\n",
    "#function arguments - values that are passed to a function when it is called"
   ]
  },
  {
   "cell_type": "code",
   "execution_count": 28,
   "id": "13f8efd6",
   "metadata": {},
   "outputs": [],
   "source": [
    "#function that adds two numbers\n",
    "def add(x, y):\n",
    "    return x + y\n"
   ]
  },
  {
   "cell_type": "code",
   "execution_count": 29,
   "id": "52c2ad5d",
   "metadata": {},
   "outputs": [
    {
     "name": "stdout",
     "output_type": "stream",
     "text": [
      "30\n"
     ]
    }
   ],
   "source": [
    "add1=add(10, 20)\n",
    "print(add1)"
   ]
  },
  {
   "cell_type": "code",
   "execution_count": 30,
   "id": "e4db57ad",
   "metadata": {},
   "outputs": [
    {
     "name": "stdout",
     "output_type": "stream",
     "text": [
      "70\n"
     ]
    }
   ],
   "source": [
    "add2=add(30, 40)\n",
    "print(add2)"
   ]
  },
  {
   "cell_type": "code",
   "execution_count": 5,
   "id": "42b79803",
   "metadata": {},
   "outputs": [],
   "source": [
    "#write a function to multiply 3 numbers\n",
    "def multiply(a,b,c):\n",
    "    return a * b * c"
   ]
  },
  {
   "cell_type": "code",
   "execution_count": 34,
   "id": "ba95017b",
   "metadata": {},
   "outputs": [
    {
     "name": "stdout",
     "output_type": "stream",
     "text": [
      "24\n"
     ]
    }
   ],
   "source": [
    "multiply1=multiply(2,3,4)\n",
    "print(multiply1)"
   ]
  },
  {
   "cell_type": "code",
   "execution_count": 2,
   "id": "cf6b9b87",
   "metadata": {},
   "outputs": [],
   "source": [
    "#function that greets you\n",
    "def greeting(name):\n",
    "    return f\"Sasa {name}, welcome to luxdevhq.\""
   ]
  },
  {
   "cell_type": "code",
   "execution_count": 3,
   "id": "7f08ca83",
   "metadata": {},
   "outputs": [
    {
     "name": "stdout",
     "output_type": "stream",
     "text": [
      "Sasa atasaa, welcome to luxdevhq.\n"
     ]
    }
   ],
   "source": [
    "greeting1=greeting(\"atasaa\")\n",
    "print(greeting1)"
   ]
  },
  {
   "cell_type": "code",
   "execution_count": 6,
   "id": "4e73ebbe",
   "metadata": {},
   "outputs": [
    {
     "name": "stdout",
     "output_type": "stream",
     "text": [
      "1320\n"
     ]
    }
   ],
   "source": [
    "multiply2=multiply(10,11,12)\n",
    "print(multiply2)"
   ]
  },
  {
   "cell_type": "code",
   "execution_count": 7,
   "id": "9603eb77",
   "metadata": {},
   "outputs": [],
   "source": [
    "#lambda functions -used for simpple one line functions\n",
    "product = lambda x,y,z: x * y * z\n"
   ]
  },
  {
   "cell_type": "code",
   "execution_count": null,
   "id": "aa4bcfcc",
   "metadata": {},
   "outputs": [
    {
     "data": {
      "text/plain": [
       "6"
      ]
     },
     "execution_count": 8,
     "metadata": {},
     "output_type": "execute_result"
    }
   ],
   "source": [
    "product1=product(1,2,3)\n",
    "product1"
   ]
  },
  {
   "cell_type": "code",
   "execution_count": 10,
   "id": "e817eb25",
   "metadata": {},
   "outputs": [],
   "source": [
    "salamu = lambda name: f\"Sasa {name}, welcome to luxdevhq.\""
   ]
  },
  {
   "cell_type": "code",
   "execution_count": 11,
   "id": "b701d627",
   "metadata": {},
   "outputs": [
    {
     "name": "stdout",
     "output_type": "stream",
     "text": [
      "Sasa atasaa, welcome to luxdevhq.\n"
     ]
    }
   ],
   "source": [
    "greeting1=salamu(\"atasaa\")\n",
    "print(greeting1)"
   ]
  },
  {
   "cell_type": "code",
   "execution_count": null,
   "id": "884937aa",
   "metadata": {},
   "outputs": [],
   "source": [
    "#write a python function that checks if a number is even or odd\n",
    "def check_even_odd(num):\n",
    "    if num % 2 == 0:\n",
    "        return f\"{num} is even\"\n",
    "    else:\n",
    "        return f\"{num} is odd\"\n"
   ]
  },
  {
   "cell_type": "code",
   "execution_count": null,
   "id": "6bfce354",
   "metadata": {},
   "outputs": [
    {
     "data": {
      "text/plain": [
       "['mango', 'banana', 'pawpaw', 'apple', 'oranges']"
      ]
     },
     "execution_count": 14,
     "metadata": {},
     "output_type": "execute_result"
    }
   ],
   "source": [
    "#list - its a collection which is ordered and changeable. Allows duplicate members.\n",
    "#list is written with square brackets []\n",
    "#data structure -is a particular way of organizing and storing data in a computer so that it can be accessed and modified efficiently.\n",
    "#list - \n",
    "#tupples -it is immutable, ordered collection of items. written with round brackets ()\n",
    "#how to denote a tupple ? ()\n",
    "#sets\n",
    "#dictionary\n",
    "\n",
    "fruits = [\"mango\",\"banana\",\"pawpaw\",\"apple\"]\n",
    "fruits.append(\"oranges\")\n",
    "fruits\n"
   ]
  },
  {
   "cell_type": "code",
   "execution_count": 16,
   "id": "7fde3009",
   "metadata": {},
   "outputs": [
    {
     "data": {
      "text/plain": [
       "'oranges'"
      ]
     },
     "execution_count": 16,
     "metadata": {},
     "output_type": "execute_result"
    }
   ],
   "source": [
    "fruits.pop()"
   ]
  },
  {
   "cell_type": "code",
   "execution_count": 17,
   "id": "9544b306",
   "metadata": {},
   "outputs": [
    {
     "data": {
      "text/plain": [
       "['mango', 'banana', 'pawpaw', 'apple']"
      ]
     },
     "execution_count": 17,
     "metadata": {},
     "output_type": "execute_result"
    }
   ],
   "source": [
    "fruits"
   ]
  },
  {
   "cell_type": "code",
   "execution_count": null,
   "id": "af3b4b04",
   "metadata": {},
   "outputs": [
    {
     "data": {
      "text/plain": [
       "1"
      ]
     },
     "execution_count": 19,
     "metadata": {},
     "output_type": "execute_result"
    }
   ],
   "source": [
    "image_pexels = (1920, 1080)\n",
    "#count does what ? \n",
    "#index ? the position of an item in a list\n",
    "image_pexels.count(1920)"
   ]
  },
  {
   "cell_type": "code",
   "execution_count": 20,
   "id": "cf88fdf5",
   "metadata": {},
   "outputs": [
    {
     "data": {
      "text/plain": [
       "0"
      ]
     },
     "execution_count": 20,
     "metadata": {},
     "output_type": "execute_result"
    }
   ],
   "source": [
    "image_pexels.index(1920)"
   ]
  },
  {
   "cell_type": "code",
   "execution_count": 23,
   "id": "21340a52",
   "metadata": {},
   "outputs": [
    {
     "data": {
      "text/plain": [
       "1920"
      ]
     },
     "execution_count": 23,
     "metadata": {},
     "output_type": "execute_result"
    }
   ],
   "source": [
    "image_pexels[0]"
   ]
  },
  {
   "cell_type": "code",
   "execution_count": null,
   "id": "90f23c26",
   "metadata": {},
   "outputs": [],
   "source": [
    "#3.sets \n",
    "#unordered\n",
    "#mutable\n",
    "#denoted by {}\n",
    "#methods :inrersection, union, difference, symmetric difference\n",
    "#union is the combination of two sets without duplicates\n",
    "#sets do not allow duplicates\n",
    "#intersection - it returns a set that contains the common elements/values between two sets"
   ]
  },
  {
   "cell_type": "code",
   "execution_count": 25,
   "id": "1748845e",
   "metadata": {},
   "outputs": [],
   "source": [
    "set1 = {5,7,6,8,4}\n",
    "set2 = {1,2,3,4,9}"
   ]
  },
  {
   "cell_type": "code",
   "execution_count": 27,
   "id": "dbbeff69",
   "metadata": {},
   "outputs": [
    {
     "data": {
      "text/plain": [
       "{4}"
      ]
     },
     "execution_count": 27,
     "metadata": {},
     "output_type": "execute_result"
    }
   ],
   "source": [
    "set3 = set1.intersection(set2)\n",
    "set3"
   ]
  },
  {
   "cell_type": "code",
   "execution_count": 28,
   "id": "c6511a0f",
   "metadata": {},
   "outputs": [
    {
     "data": {
      "text/plain": [
       "{1, 2, 3, 4, 5, 6, 7, 8, 9}"
      ]
     },
     "execution_count": 28,
     "metadata": {},
     "output_type": "execute_result"
    }
   ],
   "source": [
    "set4 = set1.union(set2)\n",
    "set4"
   ]
  },
  {
   "cell_type": "code",
   "execution_count": null,
   "id": "6446c238",
   "metadata": {},
   "outputs": [],
   "source": [
    "#dictionaries are used to store data values in key:value pairs.\n",
    "#denoted by {}\n",
    "#key - value pairs"
   ]
  },
  {
   "cell_type": "code",
   "execution_count": 31,
   "id": "1dbe10a7",
   "metadata": {},
   "outputs": [],
   "source": [
    "person={\n",
    "    \"name\":\"atasaa\",\n",
    "    \"age\":21,\n",
    "    \"fruit\":\"avocado\"\n",
    "}"
   ]
  },
  {
   "cell_type": "code",
   "execution_count": 32,
   "id": "d4af4743",
   "metadata": {},
   "outputs": [
    {
     "data": {
      "text/plain": [
       "{'name': 'atasaa', 'age': 21, 'fruit': 'avocado'}"
      ]
     },
     "execution_count": 32,
     "metadata": {},
     "output_type": "execute_result"
    }
   ],
   "source": [
    "person"
   ]
  },
  {
   "cell_type": "code",
   "execution_count": 33,
   "id": "c1762db7",
   "metadata": {},
   "outputs": [],
   "source": [
    "data={\n",
    "    \"name\":[\"kipngeno\",\"atasaa\",\"nelle\",\"melomelo\",\"wambua\"],\n",
    "    \"age\":[23,23,24,23,25],\n",
    "    \"fruit\":[\"mango\",\"banana\",\"pawpaw\",\"apple\",\"avocado\"]\n",
    "    \n",
    "}"
   ]
  },
  {
   "cell_type": "code",
   "execution_count": 39,
   "id": "163662b2",
   "metadata": {},
   "outputs": [
    {
     "data": {
      "text/plain": [
       "<bound method NDFrame.head of        name  age    fruit\n",
       "0  kipngeno   23    mango\n",
       "1    atasaa   23   banana\n",
       "2     nelle   24   pawpaw\n",
       "3  melomelo   23    apple\n",
       "4    wambua   25  avocado>"
      ]
     },
     "execution_count": 39,
     "metadata": {},
     "output_type": "execute_result"
    }
   ],
   "source": [
    "import pandas as pd\n",
    "df=pd.DataFrame(data)\n",
    "df.head\n",
    "\n"
   ]
  },
  {
   "cell_type": "code",
   "execution_count": 38,
   "id": "d5370f63",
   "metadata": {},
   "outputs": [
    {
     "name": "stdout",
     "output_type": "stream",
     "text": [
      "Defaulting to user installation because normal site-packages is not writeable\n",
      "Collecting pandas\n",
      "  Downloading pandas-2.3.2-cp312-cp312-win_amd64.whl.metadata (19 kB)\n",
      "Collecting numpy>=1.26.0 (from pandas)\n",
      "  Downloading numpy-2.3.2-cp312-cp312-win_amd64.whl.metadata (60 kB)\n",
      "Requirement already satisfied: python-dateutil>=2.8.2 in c:\\users\\hp\\appdata\\local\\packages\\pythonsoftwarefoundation.python.3.12_qbz5n2kfra8p0\\localcache\\local-packages\\python312\\site-packages (from pandas) (2.9.0.post0)\n",
      "Collecting pytz>=2020.1 (from pandas)\n",
      "  Using cached pytz-2025.2-py2.py3-none-any.whl.metadata (22 kB)\n",
      "Collecting tzdata>=2022.7 (from pandas)\n",
      "  Using cached tzdata-2025.2-py2.py3-none-any.whl.metadata (1.4 kB)\n",
      "Requirement already satisfied: six>=1.5 in c:\\users\\hp\\appdata\\local\\packages\\pythonsoftwarefoundation.python.3.12_qbz5n2kfra8p0\\localcache\\local-packages\\python312\\site-packages (from python-dateutil>=2.8.2->pandas) (1.17.0)\n",
      "Downloading pandas-2.3.2-cp312-cp312-win_amd64.whl (11.0 MB)\n",
      "   ---------------------------------------- 0.0/11.0 MB ? eta -:--:--\n",
      "   ---------------------------------------- 0.0/11.0 MB ? eta -:--:--\n",
      "   - -------------------------------------- 0.5/11.0 MB 2.1 MB/s eta 0:00:05\n",
      "   ----- ---------------------------------- 1.6/11.0 MB 3.5 MB/s eta 0:00:03\n",
      "   -------- ------------------------------- 2.4/11.0 MB 4.1 MB/s eta 0:00:03\n",
      "   ------------- -------------------------- 3.7/11.0 MB 4.3 MB/s eta 0:00:02\n",
      "   ----------------- ---------------------- 4.7/11.0 MB 4.5 MB/s eta 0:00:02\n",
      "   ---------------------- ----------------- 6.3/11.0 MB 4.9 MB/s eta 0:00:01\n",
      "   ---------------------------- ----------- 7.9/11.0 MB 5.3 MB/s eta 0:00:01\n",
      "   ---------------------------------- ----- 9.4/11.0 MB 5.6 MB/s eta 0:00:01\n",
      "   ---------------------------------------- 11.0/11.0 MB 5.7 MB/s eta 0:00:00\n",
      "Downloading numpy-2.3.2-cp312-cp312-win_amd64.whl (12.8 MB)\n",
      "   ---------------------------------------- 0.0/12.8 MB ? eta -:--:--\n",
      "   ---- ----------------------------------- 1.3/12.8 MB 8.4 MB/s eta 0:00:02\n",
      "   -------- ------------------------------- 2.6/12.8 MB 6.3 MB/s eta 0:00:02\n",
      "   ------------- -------------------------- 4.2/12.8 MB 6.8 MB/s eta 0:00:02\n",
      "   ------------------ --------------------- 5.8/12.8 MB 6.6 MB/s eta 0:00:02\n",
      "   --------------------- ------------------ 6.8/12.8 MB 6.4 MB/s eta 0:00:01\n",
      "   ------------------------ --------------- 7.9/12.8 MB 6.2 MB/s eta 0:00:01\n",
      "   --------------------------- ------------ 8.9/12.8 MB 5.8 MB/s eta 0:00:01\n",
      "   ------------------------------ --------- 9.7/12.8 MB 5.8 MB/s eta 0:00:01\n",
      "   ---------------------------------- ----- 11.0/12.8 MB 5.6 MB/s eta 0:00:01\n",
      "   ------------------------------------- -- 12.1/12.8 MB 5.6 MB/s eta 0:00:01\n",
      "   ---------------------------------------- 12.8/12.8 MB 5.5 MB/s eta 0:00:00\n",
      "Using cached pytz-2025.2-py2.py3-none-any.whl (509 kB)\n",
      "Using cached tzdata-2025.2-py2.py3-none-any.whl (347 kB)\n",
      "Installing collected packages: pytz, tzdata, numpy, pandas\n",
      "Successfully installed numpy-2.3.2 pandas-2.3.2 pytz-2025.2 tzdata-2025.2\n"
     ]
    },
    {
     "name": "stderr",
     "output_type": "stream",
     "text": [
      "\n",
      "[notice] A new release of pip is available: 25.0.1 -> 25.2\n",
      "[notice] To update, run: C:\\Users\\HP\\AppData\\Local\\Microsoft\\WindowsApps\\PythonSoftwareFoundation.Python.3.12_qbz5n2kfra8p0\\python.exe -m pip install --upgrade pip\n"
     ]
    }
   ],
   "source": [
    "!pip install pandas"
   ]
  },
  {
   "cell_type": "code",
   "execution_count": null,
   "id": "6eb447cb",
   "metadata": {},
   "outputs": [],
   "source": [
    "#indexing \n",
    "#slicing -uses indexes to return a new list from the original list without modifying the original list"
   ]
  },
  {
   "cell_type": "code",
   "execution_count": 40,
   "id": "60581c34",
   "metadata": {},
   "outputs": [],
   "source": [
    "numbers = [10,30,40,50,]\n"
   ]
  },
  {
   "cell_type": "code",
   "execution_count": 41,
   "id": "851ae041",
   "metadata": {},
   "outputs": [
    {
     "data": {
      "text/plain": [
       "30"
      ]
     },
     "execution_count": 41,
     "metadata": {},
     "output_type": "execute_result"
    }
   ],
   "source": [
    "numbers[1]"
   ]
  },
  {
   "cell_type": "code",
   "execution_count": 42,
   "id": "fe880238",
   "metadata": {},
   "outputs": [
    {
     "data": {
      "text/plain": [
       "50"
      ]
     },
     "execution_count": 42,
     "metadata": {},
     "output_type": "execute_result"
    }
   ],
   "source": [
    "numbers[3]"
   ]
  },
  {
   "cell_type": "code",
   "execution_count": 43,
   "id": "4647b54d",
   "metadata": {},
   "outputs": [
    {
     "data": {
      "text/plain": [
       "[10, 30, 40]"
      ]
     },
     "execution_count": 43,
     "metadata": {},
     "output_type": "execute_result"
    }
   ],
   "source": [
    "numbers[:3]"
   ]
  },
  {
   "cell_type": "code",
   "execution_count": 44,
   "id": "fadcfe56",
   "metadata": {},
   "outputs": [
    {
     "data": {
      "text/plain": [
       "[30, 40, 50]"
      ]
     },
     "execution_count": 44,
     "metadata": {},
     "output_type": "execute_result"
    }
   ],
   "source": [
    "numbers[1:]"
   ]
  },
  {
   "cell_type": "code",
   "execution_count": 45,
   "id": "bbc2344e",
   "metadata": {},
   "outputs": [
    {
     "data": {
      "text/plain": [
       "[30, 40]"
      ]
     },
     "execution_count": 45,
     "metadata": {},
     "output_type": "execute_result"
    }
   ],
   "source": [
    "numbers[1:3]"
   ]
  },
  {
   "cell_type": "code",
   "execution_count": 46,
   "id": "5f8c4d48",
   "metadata": {},
   "outputs": [],
   "source": [
    "#append new number to the list\n",
    "numbers.append(60)"
   ]
  },
  {
   "cell_type": "code",
   "execution_count": 47,
   "id": "eee64cf7",
   "metadata": {},
   "outputs": [
    {
     "data": {
      "text/plain": [
       "[10, 30, 40, 50, 60]"
      ]
     },
     "execution_count": 47,
     "metadata": {},
     "output_type": "execute_result"
    }
   ],
   "source": [
    "numbers"
   ]
  },
  {
   "cell_type": "code",
   "execution_count": 48,
   "id": "cf361989",
   "metadata": {},
   "outputs": [
    {
     "data": {
      "text/plain": [
       "[40, 50, 60]"
      ]
     },
     "execution_count": 48,
     "metadata": {},
     "output_type": "execute_result"
    }
   ],
   "source": [
    "numbers[2:]"
   ]
  }
 ],
 "metadata": {
  "kernelspec": {
   "display_name": "Python 3",
   "language": "python",
   "name": "python3"
  },
  "language_info": {
   "codemirror_mode": {
    "name": "ipython",
    "version": 3
   },
   "file_extension": ".py",
   "mimetype": "text/x-python",
   "name": "python",
   "nbconvert_exporter": "python",
   "pygments_lexer": "ipython3",
   "version": "3.12.10"
  }
 },
 "nbformat": 4,
 "nbformat_minor": 5
}
