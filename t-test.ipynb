{
 "cells": [
  {
   "cell_type": "code",
   "execution_count": 8,
   "id": "469ab0f4",
   "metadata": {},
   "outputs": [],
   "source": [
    "import numpy as np\n",
    "from scipy import stats\n",
    "\n",
    "sample= [122.09, 100.64, 125.77, 120.32, 118.25,  \n",
    "        96.47, 111.4 ,  80.66, 110.77, 111.14, \n",
    "        102.9, 114.54,  88.09,  98.59,  87.07, \n",
    "       110.43, 101.9 , 123.89,  97.03, 116.23, \n",
    "        108.3, 112.82, 119.57, 131.38, 128.39]\n"
   ]
  },
  {
   "cell_type": "code",
   "execution_count": 9,
   "id": "bdebd812",
   "metadata": {},
   "outputs": [
    {
     "data": {
      "text/plain": [
       "np.float64(109.5456)"
      ]
     },
     "execution_count": 9,
     "metadata": {},
     "output_type": "execute_result"
    }
   ],
   "source": [
    "sample_mean= np.mean(sample)\n",
    "sample_mean"
   ]
  },
  {
   "cell_type": "code",
   "execution_count": 10,
   "id": "5671cc0c",
   "metadata": {},
   "outputs": [
    {
     "data": {
      "text/plain": [
       "100"
      ]
     },
     "execution_count": 10,
     "metadata": {},
     "output_type": "execute_result"
    }
   ],
   "source": [
    "population_mean= 100\n",
    "population_mean"
   ]
  },
  {
   "cell_type": "code",
   "execution_count": 11,
   "id": "0717141a",
   "metadata": {},
   "outputs": [],
   "source": [
    "alternative_hypothesis= \"There is a difference between the means and therefore we can conclude that the training worked.\"\n",
    "null_hypothesis= \"There is no difference between the means and therefore we can conclude that the training did not work.\""
   ]
  },
  {
   "cell_type": "code",
   "execution_count": 12,
   "id": "e04b6202",
   "metadata": {},
   "outputs": [],
   "source": [
    "alpha= 0.05 # significance level"
   ]
  },
  {
   "cell_type": "code",
   "execution_count": 13,
   "id": "de869022",
   "metadata": {},
   "outputs": [
    {
     "data": {
      "text/plain": [
       "25"
      ]
     },
     "execution_count": 13,
     "metadata": {},
     "output_type": "execute_result"
    }
   ],
   "source": [
    "sample_size= len(sample) # number of observations in the sample\n",
    "sample_size"
   ]
  },
  {
   "cell_type": "code",
   "execution_count": 14,
   "id": "683c9f7e",
   "metadata": {},
   "outputs": [
    {
     "data": {
      "text/plain": [
       "np.float64(13.338774643871902)"
      ]
     },
     "execution_count": 14,
     "metadata": {},
     "output_type": "execute_result"
    }
   ],
   "source": [
    "sample_sd= np.std(sample, ddof=1) # sample standard deviation\n",
    "sample_sd"
   ]
  },
  {
   "cell_type": "code",
   "execution_count": null,
   "id": "e835f933",
   "metadata": {},
   "outputs": [
    {
     "data": {
      "text/plain": [
       "np.float64(3.578139767278185)"
      ]
     },
     "execution_count": 15,
     "metadata": {},
     "output_type": "execute_result"
    }
   ],
   "source": [
    "t_statistic=(sample_mean - population_mean) / (sample_sd / np.sqrt(sample_size))\n",
    "t_statistic "
   ]
  },
  {
   "cell_type": "code",
   "execution_count": null,
   "id": "91f50a85",
   "metadata": {},
   "outputs": [
    {
     "data": {
      "text/plain": [
       "np.float64(0.9992410527292442)"
      ]
     },
     "execution_count": 16,
     "metadata": {},
     "output_type": "execute_result"
    }
   ],
   "source": [
    "cdf= stats.t.cdf(t_statistic, df= sample_size - 1)\n",
    "cdf "
   ]
  },
  {
   "cell_type": "code",
   "execution_count": 17,
   "id": "ee774e40",
   "metadata": {},
   "outputs": [
    {
     "data": {
      "text/plain": [
       "np.float64(0.0007589472707557043)"
      ]
     },
     "execution_count": 17,
     "metadata": {},
     "output_type": "execute_result"
    }
   ],
   "source": [
    "p_value=stats.t.sf(t_statistic, df= sample_size - 1)\n",
    "p_value"
   ]
  },
  {
   "cell_type": "code",
   "execution_count": 19,
   "id": "fd556394",
   "metadata": {},
   "outputs": [
    {
     "name": "stdout",
     "output_type": "stream",
     "text": [
      "Based on the current evidence we reject the null hypothesis and conclude that There is a difference between the means and therefore we can conclude that the training worked.\n"
     ]
    }
   ],
   "source": [
    "if p_value<alpha:\n",
    "    print(f\"Based on the current evidence we reject the null hypothesis and conclude that {alternative_hypothesis}\")\n",
    "else:\n",
    "    print(f\"Based on the current evidence we fail to reject the null hypothesis and conclude that {null_hypothesis}\")"
   ]
  },
  {
   "cell_type": "code",
   "execution_count": null,
   "id": "1a36e850",
   "metadata": {},
   "outputs": [],
   "source": [
    "# we are determining in a court if someone is guilty or not guilty\n",
    "# what would be the alternative hypothesis and null hypothesis in this case?\n",
    "# alternative hypothesis: the person is guilty\n",
    "# null hypothesis: the person is not guilty\n",
    "#alternative hypothesis means ?\n",
    "#general assumption is null hypothesis which is not guilty"
   ]
  },
  {
   "cell_type": "code",
   "execution_count": null,
   "id": "f8489b20",
   "metadata": {},
   "outputs": [],
   "source": [
    "#type 1 error: rejecting null hypothesis when it is true-probability of rejecting null hypothesis when you should not reject it thus the guilty person is sent to jail\n",
    "#type 2 error: failing to reject null hypothesis when it is false will the guilty person will go free"
   ]
  },
  {
   "cell_type": "code",
   "execution_count": null,
   "id": "3edeabc2",
   "metadata": {},
   "outputs": [],
   "source": [
    "#in a situation where i am a doctor and i have a patient who is been coming to me with consistent headaches \n",
    "#i will assume that the patient does not have a brain tumor(null hypothesis)\n",
    "#but after some tests i find out that the patient has a brain tumor(alternative hypothesis)\n",
    "#type 1 error: saying that the patient is not healthy when the patient is healthy \n",
    "#type 2 error: saying that the patient is healthy when the patient is not healthy\n",
    "#which one is more serious? type 2 error because the patient might die if not treated \n",
    "#why is type 1 not serious ----because the patient will go for more tests and be sure that he is healthy"
   ]
  },
  {
   "cell_type": "code",
   "execution_count": null,
   "id": "a82ef42c",
   "metadata": {},
   "outputs": [],
   "source": [
    "#binomial test\n",
    "#expected value is np\n",
    "#variance is npq\n",
    "#standard deviation is sqrt(npq) "
   ]
  },
  {
   "cell_type": "code",
   "execution_count": 20,
   "id": "0ca78917",
   "metadata": {},
   "outputs": [
    {
     "data": {
      "text/plain": [
       "15"
      ]
     },
     "execution_count": 20,
     "metadata": {},
     "output_type": "execute_result"
    }
   ],
   "source": [
    "#testing fair coin\n",
    "p=0.75\n",
    "n=20\n",
    "coin1=np.random.binomial(n, p)\n",
    "coin1"
   ]
  },
  {
   "cell_type": "code",
   "execution_count": 21,
   "id": "5112525c",
   "metadata": {},
   "outputs": [
    {
     "data": {
      "text/plain": [
       "0.25"
      ]
     },
     "execution_count": 21,
     "metadata": {},
     "output_type": "execute_result"
    }
   ],
   "source": [
    "q=1-p\n",
    "q"
   ]
  },
  {
   "cell_type": "code",
   "execution_count": 22,
   "id": "b8096423",
   "metadata": {},
   "outputs": [
    {
     "data": {
      "text/plain": [
       "np.float64(1.9364916731037085)"
      ]
     },
     "execution_count": 22,
     "metadata": {},
     "output_type": "execute_result"
    }
   ],
   "source": [
    "coin1_sd=np.sqrt (n*p*q)\n",
    "coin1_sd"
   ]
  },
  {
   "cell_type": "code",
   "execution_count": 27,
   "id": "c1722e00",
   "metadata": {},
   "outputs": [
    {
     "data": {
      "text/plain": [
       "np.float64(11.547005383792516)"
      ]
     },
     "execution_count": 27,
     "metadata": {},
     "output_type": "execute_result"
    }
   ],
   "source": [
    "\n",
    "#z score\n",
    "z_test=(coin1-10)/(coin1_sd/np.sqrt(n))\n",
    "z_test "
   ]
  },
  {
   "cell_type": "code",
   "execution_count": 28,
   "id": "54db4cca",
   "metadata": {},
   "outputs": [
    {
     "data": {
      "text/plain": [
       "np.float64(3.8218791928155604e-31)"
      ]
     },
     "execution_count": 28,
     "metadata": {},
     "output_type": "execute_result"
    }
   ],
   "source": [
    "#p value\n",
    "stats.norm.sf(z_test)"
   ]
  }
 ],
 "metadata": {
  "kernelspec": {
   "display_name": "myEnv",
   "language": "python",
   "name": "python3"
  },
  "language_info": {
   "codemirror_mode": {
    "name": "ipython",
    "version": 3
   },
   "file_extension": ".py",
   "mimetype": "text/x-python",
   "name": "python",
   "nbconvert_exporter": "python",
   "pygments_lexer": "ipython3",
   "version": "3.13.5"
  }
 },
 "nbformat": 4,
 "nbformat_minor": 5
}
