{
 "cells": [
  {
   "cell_type": "code",
   "execution_count": 5,
   "id": "9dd8a88a",
   "metadata": {},
   "outputs": [],
   "source": [
    "import numpy as np\n",
    "from scipy import stats\n",
    "sample = np.array([15.46097664, 15.5930238 , 19.55426936, 16.54231132, 18.40712804,\n",
    "                   13.33092129, 13.79141786, 12.44315636, 15.70385525, 12.48722755,\n",
    "                   11.81594655, 15.22694063, 18.25064431, 15.93900563, 17.38471543,\n",
    "                   15.02334988, 14.55826229, 16.64212199, 16.50657618, 13.44759329,\n",
    "                   13.05467437, 14.151049  , 13.55036322, 13.37386788, 10.25090132,\n",
    "                   16.45380807, 12.63016764, 11.90102614, 15.34426397, 15.2048003 ,\n",
    "                   11.60623705, 16.10720081, 16.42266283, 13.74686281, 14.51850311,\n",
    "                   15.59951107, 18.03269318, 14.35882143, 17.95626942, 14.06849303,\n",
    "                   14.4507767 , 17.27149508, 15.06747021, 13.82402614, 12.40651465,\n",
    "                   15.94104138, 16.8003216 , 18.45973001, 14.24757027, 14.06031845])"
   ]
  },
  {
   "cell_type": "code",
   "execution_count": 6,
   "id": "54f7a5ef",
   "metadata": {},
   "outputs": [
    {
     "data": {
      "text/plain": [
       "np.float64(14.9794176958)"
      ]
     },
     "execution_count": 6,
     "metadata": {},
     "output_type": "execute_result"
    }
   ],
   "source": [
    "sample_mean = np.mean(sample)\n",
    "sample_mean"
   ]
  },
  {
   "cell_type": "code",
   "execution_count": 7,
   "id": "8a274d98",
   "metadata": {},
   "outputs": [
    {
     "data": {
      "text/plain": [
       "np.float64(2.042036093928169)"
      ]
     },
     "execution_count": 7,
     "metadata": {},
     "output_type": "execute_result"
    }
   ],
   "source": [
    "sample_sd=np.std(sample, ddof=1)\n",
    "sample_sd"
   ]
  },
  {
   "cell_type": "code",
   "execution_count": 8,
   "id": "f7d5dc28",
   "metadata": {},
   "outputs": [
    {
     "data": {
      "text/plain": [
       "np.float64(0.2887875138888596)"
      ]
     },
     "execution_count": 8,
     "metadata": {},
     "output_type": "execute_result"
    }
   ],
   "source": [
    "sample_se=sample_sd/(np.sqrt(len(sample)))\n",
    "sample_se"
   ]
  },
  {
   "cell_type": "code",
   "execution_count": 10,
   "id": "c8a32967",
   "metadata": {},
   "outputs": [
    {
     "data": {
      "text/plain": [
       "(np.float64(14.399077459096832), np.float64(15.55975793250317))"
      ]
     },
     "execution_count": 10,
     "metadata": {},
     "output_type": "execute_result"
    }
   ],
   "source": [
    "confidence_interval=stats.t.interval(confidence=0.95, df=len(sample)-1, loc=sample_mean, scale=sample_se)\n",
    "confidence_interval"
   ]
  },
  {
   "cell_type": "code",
   "execution_count": null,
   "id": "dbadfefb",
   "metadata": {},
   "outputs": [],
   "source": [
    "#experimental design"
   ]
  },
  {
   "cell_type": "code",
   "execution_count": 13,
   "id": "7b4285a6",
   "metadata": {},
   "outputs": [
    {
     "data": {
      "text/plain": [
       "np.float64(0.9098773275355476)"
      ]
     },
     "execution_count": 13,
     "metadata": {},
     "output_type": "execute_result"
    }
   ],
   "source": [
    "from scipy import stats\n",
    "cdf=stats.norm.cdf(1.34)\n",
    "cdf"
   ]
  },
  {
   "cell_type": "code",
   "execution_count": 14,
   "id": "15733aa1",
   "metadata": {},
   "outputs": [
    {
     "data": {
      "text/plain": [
       "np.float64(0.09012267246445238)"
      ]
     },
     "execution_count": 14,
     "metadata": {},
     "output_type": "execute_result"
    }
   ],
   "source": [
    "pvalue=(1-cdf)\n",
    "pvalue"
   ]
  },
  {
   "cell_type": "code",
   "execution_count": 6,
   "id": "8f758465",
   "metadata": {},
   "outputs": [
    {
     "data": {
      "text/plain": [
       "np.float64(1.1858541225631423)"
      ]
     },
     "execution_count": 6,
     "metadata": {},
     "output_type": "execute_result"
    }
   ],
   "source": [
    "# z-test\n",
    "from scipy import stats\n",
    "import numpy as np\n",
    "sample_size=40\n",
    "population_mean=100\n",
    "population_sd=16\n",
    "x_bar=103\n",
    "alpha=0.05\n",
    "z_statistic=(x_bar-population_mean)/((population_sd)/np.sqrt(sample_size))\n",
    "z_statistic"
   ]
  },
  {
   "cell_type": "code",
   "execution_count": 3,
   "id": "06e506ed",
   "metadata": {},
   "outputs": [
    {
     "data": {
      "text/plain": [
       "np.float64(0.8821600432854813)"
      ]
     },
     "execution_count": 3,
     "metadata": {},
     "output_type": "execute_result"
    }
   ],
   "source": [
    "z_cdf=stats.norm.cdf(z_statistic)\n",
    "z_cdf"
   ]
  },
  {
   "cell_type": "code",
   "execution_count": null,
   "id": "6460e4f5",
   "metadata": {},
   "outputs": [
    {
     "data": {
      "text/plain": [
       "np.float64(0.11783995671451875)"
      ]
     },
     "execution_count": 7,
     "metadata": {},
     "output_type": "execute_result"
    }
   ],
   "source": [
    "p_value=1-z_cdf\n",
    "p_value"
   ]
  },
  {
   "cell_type": "code",
   "execution_count": null,
   "id": "9cf10781",
   "metadata": {},
   "outputs": [
    {
     "name": "stdout",
     "output_type": "stream",
     "text": [
      "fail to reject the null hypothesis\n"
     ]
    }
   ],
   "source": [
    "#if our p value is less than alpha we reject the null hypothesis\n",
    "if p_value<alpha:\n",
    "    print(\"reject the null hypothesis\")\n",
    "else:\n",
    "    print(\"fail to reject the null hypothesis\")"
   ]
  },
  {
   "cell_type": "code",
   "execution_count": 10,
   "id": "57bfcc59",
   "metadata": {},
   "outputs": [
    {
     "data": {
      "text/plain": [
       "np.float64(3.0)"
      ]
     },
     "execution_count": 10,
     "metadata": {},
     "output_type": "execute_result"
    }
   ],
   "source": [
    "from scipy import stats\n",
    "import numpy as np\n",
    "sample_size_secs=36\n",
    "mean_secs=60\n",
    "sec_sd=30\n",
    "sec_x_bar=75\n",
    "alternative_hypotheis=\"contradicting the claim of first service\"\n",
    "null_hypothesis=\"accepting the claim of first service\"\n",
    "z__sec_statistic=(sec_x_bar-mean_secs)/((sec_sd)/np.sqrt(sample_size_secs))\n",
    "z__sec_statistic"
   ]
  },
  {
   "cell_type": "code",
   "execution_count": 11,
   "id": "900ef24b",
   "metadata": {},
   "outputs": [
    {
     "data": {
      "text/plain": [
       "np.float64(0.9986501019683699)"
      ]
     },
     "execution_count": 11,
     "metadata": {},
     "output_type": "execute_result"
    }
   ],
   "source": [
    "#secs cdf\n",
    "sec_cdf=stats.norm.cdf(z__sec_statistic)\n",
    "sec_cdf"
   ]
  },
  {
   "cell_type": "code",
   "execution_count": 12,
   "id": "2b5a0a0a",
   "metadata": {},
   "outputs": [
    {
     "data": {
      "text/plain": [
       "np.float64(0.0013498980316301035)"
      ]
     },
     "execution_count": 12,
     "metadata": {},
     "output_type": "execute_result"
    }
   ],
   "source": [
    "#p value\n",
    "p_sec_value=1-sec_cdf\n",
    "p_sec_value"
   ]
  },
  {
   "cell_type": "code",
   "execution_count": 16,
   "id": "79370629",
   "metadata": {},
   "outputs": [
    {
     "name": "stdout",
     "output_type": "stream",
     "text": [
      "contradicting the claim of first service\n"
     ]
    }
   ],
   "source": [
    "#if our p value is less than alpha we contradict the claim of first service\n",
    "if p_sec_value<alpha:\n",
    "    print(alternative_hypotheis)\n",
    "else:\n",
    "    print(null_hypothesis)"
   ]
  },
  {
   "cell_type": "code",
   "execution_count": null,
   "id": "39106f34",
   "metadata": {},
   "outputs": [],
   "source": [
    "from scipy import stats\n",
    "import numpy as np\n",
    "\n",
    "#convert data to array\n",
    "scores = np.array([434, 694, 457, 534, 720, 400, 484, 478, 610, 641, \n",
    "                   425, 636, 454, 514, 563, 370, 499, 640, 501, 625, \n",
    "                   612, 471, 598, 509, 531])\n",
    "x_bar = np.mean(scores)\n",
    "alternative_hypothesis = \"the sat program increases scores.\"\n",
    "null_hypothesis = \"No evidence that sat program increases scores.\"\n",
    "x_bar = np.mean(scores)"
   ]
  },
  {
   "cell_type": "code",
   "execution_count": null,
   "id": "71eea884",
   "metadata": {},
   "outputs": [
    {
     "data": {
      "text/plain": [
       "np.float64(536.0)"
      ]
     },
     "execution_count": 29,
     "metadata": {},
     "output_type": "execute_result"
    }
   ],
   "source": [
    "#mean scores\n",
    "mean_scores = np.mean(scores)\n",
    "mean_scores` `"
   ]
  },
  {
   "cell_type": "code",
   "execution_count": 20,
   "id": "d408ac86",
   "metadata": {},
   "outputs": [
    {
     "data": {
      "text/plain": [
       "np.float64(1.8)"
      ]
     },
     "execution_count": 20,
     "metadata": {},
     "output_type": "execute_result"
    }
   ],
   "source": [
    "#z-test\n",
    "z_statistic = (x_bar - population_mean) / (population_sd / np.sqrt(sample_size))\n",
    "z_statistic"
   ]
  },
  {
   "cell_type": "code",
   "execution_count": 21,
   "id": "c58ca521",
   "metadata": {},
   "outputs": [
    {
     "data": {
      "text/plain": [
       "np.float64(0.9640696808870742)"
      ]
     },
     "execution_count": 21,
     "metadata": {},
     "output_type": "execute_result"
    }
   ],
   "source": [
    "#the cdf\n",
    "cdf = stats.norm.cdf(z_statistic)\n",
    "cdf"
   ]
  },
  {
   "cell_type": "code",
   "execution_count": 22,
   "id": "20dd602d",
   "metadata": {},
   "outputs": [
    {
     "data": {
      "text/plain": [
       "np.float64(0.03593031911292577)"
      ]
     },
     "execution_count": 22,
     "metadata": {},
     "output_type": "execute_result"
    }
   ],
   "source": [
    "#p-value\n",
    "p_value = 1 - cdf\n",
    "p_value"
   ]
  },
  {
   "cell_type": "code",
   "execution_count": 25,
   "id": "adeecc1a",
   "metadata": {},
   "outputs": [
    {
     "name": "stdout",
     "output_type": "stream",
     "text": [
      "the sat program increases scores.\n"
     ]
    }
   ],
   "source": [
    "#condition\n",
    "if p_value < alpha:\n",
    "    print(alternative_hypothesis)\n",
    "else:\n",
    "    print(null_hypothesis)"
   ]
  }
 ],
 "metadata": {
  "kernelspec": {
   "display_name": "myEnv",
   "language": "python",
   "name": "python3"
  },
  "language_info": {
   "codemirror_mode": {
    "name": "ipython",
    "version": 3
   },
   "file_extension": ".py",
   "mimetype": "text/x-python",
   "name": "python",
   "nbconvert_exporter": "python",
   "pygments_lexer": "ipython3",
   "version": "3.13.5"
  }
 },
 "nbformat": 4,
 "nbformat_minor": 5
}
